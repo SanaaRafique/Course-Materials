{
  "nbformat": 4,
  "nbformat_minor": 0,
  "metadata": {
    "colab": {
      "name": "ReadMe file",
      "version": "0.3.2",
      "provenance": [],
      "collapsed_sections": []
    },
    "kernelspec": {
      "name": "python3",
      "display_name": "Python 3"
    }
  },
  "cells": [
    {
      "metadata": {
        "id": "VNzXVjNljsts",
        "colab_type": "text"
      },
      "cell_type": "markdown",
      "source": [
        "Name: Sanaa Rafique\n",
        "Date: April 05, 2019\n",
        "\n",
        "\n",
        "# Descriptions for Files in the Course-Materials GitHub Respository:-\n",
        "\n",
        "\n",
        "1) **File Name: \"Take_Home_Assignment_1_ipnyb .ipynb\"**\n",
        "\n",
        "It contains detailed information about my reserach questions, data sources, codebooks, along with code to merge the data files and create a single table to reflect all relevant varaiables. \n",
        "\n",
        "\n",
        "2) **File Name: \"Take Home Assignment 1 - Data.csv\"\n",
        "\n",
        "It contains data pulled from the IPEDS database, in paticular variables including institution names, zipcodes, total enrollment/year etc. \n",
        "\n",
        "3) **File Name: \"Poverty Rate by Zipcode.csv\"**\n",
        "\n",
        "It contains data pulled from the American Community Survey, in particular variables including zipcdes and corresponding poverty rates/year. \n",
        "\n",
        "4) **File Name: \"THA 3.docx\"**\n",
        "\n",
        "It contains my research question for the purpose of Take Home Assignment 3. \n",
        "\n",
        "5) **File Name: \"Data Dictionary\"**\n",
        "\n",
        "It describes each label in the datasets and its respective description. \n",
        "\n",
        "6) **File Name: \"IPEDS Data\"**\n",
        "\n",
        "It contains data related to enrollment proportions in Texas colleges and some institutional characteristics. \n",
        "\n",
        "7) **File Name: \"Poverty Rate by Zipcode\"**\n",
        "\n",
        "It contains data pulled from the American Community Survey, in particular variables including zipcdes and corresponding poverty rates/year. \n",
        "\n",
        "8) **File Name: \"ReadMe file\"**\n",
        "\n",
        "It contains a list of the files in the Course-Materials GitHub repository with brief details about each of them. \n"
      ]
    },
    {
      "metadata": {
        "id": "OkB1EOiyjqHW",
        "colab_type": "code",
        "colab": {}
      },
      "cell_type": "code",
      "source": [
        ""
      ],
      "execution_count": 0,
      "outputs": []
    }
  ]
}