{
 "cells": [
  {
   "cell_type": "markdown",
   "metadata": {
    "colab_type": "text",
    "id": "VNzXVjNljsts"
   },
   "source": [
    "Name: Sanaa Rafique\n",
    "Date: April 26, 2019\n",
    "\n",
    "\n",
    "# Descriptions for Files in the Course-Materials GitHub Respository:-\n",
    "\n",
    "\n",
    "1) **File Name: \"Take_Home_Assignment_1_ipnyb .ipynb\"**\n",
    "\n",
    "It contains detailed information about my reserach questions, data sources, codebooks, along with code to merge the data files and create a single table to reflect all relevant varaiables. \n",
    "\n",
    "\n",
    "2) **File Name: \"Take Home Assignment 1 - Data.csv\"\n",
    "\n",
    "It contains data pulled from the IPEDS database, in paticular variables including institution names, zipcodes, total enrollment/year etc. \n",
    "\n",
    "3) **File Name: \"THA 3.docx\"**\n",
    "\n",
    "It contains my research question for the purpose of Take Home Assignment 3. \n",
    "\n",
    "4) **File Name: \"Data Dictionary\"**\n",
    "\n",
    "It describes each label in the datasets and its respective description. \n",
    "\n",
    "5) **File Name: \"IPEDS Data\"**\n",
    "\n",
    "It contains data related to enrollment proportions in Texas colleges and some institutional characteristics. \n",
    "\n",
    "6) **File Name: \"Poverty Rate by Zipcode.xlsx\"**\n",
    "\n",
    "It contains data pulled from the American Community Survey, in particular variables including zipcdes and corresponding poverty rates/year. \n",
    "\n",
    "7) **File Name: \"THA 4.docx**\n",
    "\n",
    "It contains my research question for the purpose of Take Home Assignment 4.\n",
    "\n",
    "8) **File Name: \"Universities -Zipcodes within 6 miles - Avg.PovRate.xlsx\"**\n",
    "\n",
    "It contains values for all the variables relevant to the analyses of my research question for Take Home Assignment 4.\n",
    "\n",
    "9) **File Name: \"Workflow Chart and Process Design.pdf\"**\n",
    "\n",
    "It contains my a chart for my workflow and process deisgn. \n",
    "\n",
    "10) **File Name: \"ReadMe file\"**\n",
    "\n",
    "It contains a list of the files in the Course-Materials GitHub repository with brief details about each of them. \n"
   ]
  },
  {
   "cell_type": "code",
   "execution_count": 0,
   "metadata": {
    "colab": {},
    "colab_type": "code",
    "id": "OkB1EOiyjqHW"
   },
   "outputs": [],
   "source": []
  }
 ],
 "metadata": {
  "colab": {
   "collapsed_sections": [],
   "name": "ReadMe file",
   "provenance": [],
   "version": "0.3.2"
  },
  "kernelspec": {
   "display_name": "Python 3",
   "language": "python",
   "name": "python3"
  },
  "language_info": {
   "codemirror_mode": {
    "name": "ipython",
    "version": 3
   },
   "file_extension": ".py",
   "mimetype": "text/x-python",
   "name": "python",
   "nbconvert_exporter": "python",
   "pygments_lexer": "ipython3",
   "version": "3.7.3"
  }
 },
 "nbformat": 4,
 "nbformat_minor": 1
}
